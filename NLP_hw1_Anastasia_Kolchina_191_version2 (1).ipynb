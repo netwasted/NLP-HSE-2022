{
  "nbformat": 4,
  "nbformat_minor": 0,
  "metadata": {
    "colab": {
      "provenance": []
    },
    "kernelspec": {
      "name": "python3",
      "display_name": "Python 3"
    },
    "language_info": {
      "name": "python"
    }
  },
  "cells": [
    {
      "cell_type": "code",
      "source": [
        "import re\n",
        "import gensim\n",
        "import logging\n",
        "import string\n",
        "import nltk\n",
        "import nltk.data \n",
        "import pandas as pd\n",
        "import urllib.request\n",
        "from bs4 import BeautifulSoup\n",
        "from nltk.corpus import stopwords\n",
        "from gensim.models import word2vec\n",
        "from nltk.tokenize import sent_tokenize, RegexpTokenizer\n",
        "nltk.download('punkt')\n",
        "from sklearn.feature_extraction.text import TfidfVectorizer\n",
        "from sklearn.linear_model import LogisticRegression\n",
        "import numpy as np\n",
        "from sklearn.linear_model import Ridge"
      ],
      "metadata": {
        "colab": {
          "base_uri": "https://localhost:8080/"
        },
        "id": "cnZSgv8DR2wD",
        "outputId": "96b5fe8f-9b35-40f9-a08e-947db2adbe98"
      },
      "execution_count": null,
      "outputs": [
        {
          "output_type": "stream",
          "name": "stderr",
          "text": [
            "[nltk_data] Downloading package punkt to /root/nltk_data...\n",
            "[nltk_data]   Unzipping tokenizers/punkt.zip.\n"
          ]
        }
      ]
    },
    {
      "cell_type": "markdown",
      "source": [
        "# Задание 1"
      ],
      "metadata": {
        "id": "vEx8ORwixYZA"
      }
    },
    {
      "cell_type": "code",
      "source": [
        "!wget "
      ],
      "metadata": {
        "id": "17kfDrQztzr8"
      },
      "execution_count": null,
      "outputs": []
    },
    {
      "cell_type": "markdown",
      "source": [
        "## TF-IDF\n",
        "\n",
        "Сначала уберем знаки препинания (они нам не нужны для определения категории текста), а также приведем все буквы к строчным. Соберем все в токены."
      ],
      "metadata": {
        "id": "s4UQvI7UOTfZ"
      }
    },
    {
      "cell_type": "code",
      "execution_count": null,
      "metadata": {
        "id": "VmK1yoOUNwVB"
      },
      "outputs": [],
      "source": [
        "from nltk.tokenize import word_tokenize\n",
        "\n",
        "def process_text(text):\n",
        "    return [word for word in word_tokenize(text.lower()) if word not in string.punctuation]"
      ]
    },
    {
      "cell_type": "code",
      "source": [
        "X = pd.read_csv('/content/drive/MyDrive/NLP/train_data.csv')\n",
        "X.head()"
      ],
      "metadata": {
        "colab": {
          "base_uri": "https://localhost:8080/",
          "height": 206
        },
        "id": "EF-xLgAMRp-H",
        "outputId": "35996d17-0bd0-41d6-f8c1-bba1caf86fb6"
      },
      "execution_count": null,
      "outputs": [
        {
          "output_type": "execute_result",
          "data": {
            "text/plain": [
              "       id                                            message\n",
              "0  271828  Over $616 million in Bitcoin was electrocated ...\n",
              "1  271829                          Quiz: Thursday or friday?\n",
              "2  271830  The Australian Revenue Authority will start co...\n",
              "3  271831   Let's continue😉. I present to you my new review \n",
              "4  271832                    Here comes your future palette."
            ],
            "text/html": [
              "\n",
              "  <div id=\"df-f8c043f0-6b7d-4bc0-8207-600ba7011f43\">\n",
              "    <div class=\"colab-df-container\">\n",
              "      <div>\n",
              "<style scoped>\n",
              "    .dataframe tbody tr th:only-of-type {\n",
              "        vertical-align: middle;\n",
              "    }\n",
              "\n",
              "    .dataframe tbody tr th {\n",
              "        vertical-align: top;\n",
              "    }\n",
              "\n",
              "    .dataframe thead th {\n",
              "        text-align: right;\n",
              "    }\n",
              "</style>\n",
              "<table border=\"1\" class=\"dataframe\">\n",
              "  <thead>\n",
              "    <tr style=\"text-align: right;\">\n",
              "      <th></th>\n",
              "      <th>id</th>\n",
              "      <th>message</th>\n",
              "    </tr>\n",
              "  </thead>\n",
              "  <tbody>\n",
              "    <tr>\n",
              "      <th>0</th>\n",
              "      <td>271828</td>\n",
              "      <td>Over $616 million in Bitcoin was electrocated ...</td>\n",
              "    </tr>\n",
              "    <tr>\n",
              "      <th>1</th>\n",
              "      <td>271829</td>\n",
              "      <td>Quiz: Thursday or friday?</td>\n",
              "    </tr>\n",
              "    <tr>\n",
              "      <th>2</th>\n",
              "      <td>271830</td>\n",
              "      <td>The Australian Revenue Authority will start co...</td>\n",
              "    </tr>\n",
              "    <tr>\n",
              "      <th>3</th>\n",
              "      <td>271831</td>\n",
              "      <td>Let's continue😉. I present to you my new review</td>\n",
              "    </tr>\n",
              "    <tr>\n",
              "      <th>4</th>\n",
              "      <td>271832</td>\n",
              "      <td>Here comes your future palette.</td>\n",
              "    </tr>\n",
              "  </tbody>\n",
              "</table>\n",
              "</div>\n",
              "      <button class=\"colab-df-convert\" onclick=\"convertToInteractive('df-f8c043f0-6b7d-4bc0-8207-600ba7011f43')\"\n",
              "              title=\"Convert this dataframe to an interactive table.\"\n",
              "              style=\"display:none;\">\n",
              "        \n",
              "  <svg xmlns=\"http://www.w3.org/2000/svg\" height=\"24px\"viewBox=\"0 0 24 24\"\n",
              "       width=\"24px\">\n",
              "    <path d=\"M0 0h24v24H0V0z\" fill=\"none\"/>\n",
              "    <path d=\"M18.56 5.44l.94 2.06.94-2.06 2.06-.94-2.06-.94-.94-2.06-.94 2.06-2.06.94zm-11 1L8.5 8.5l.94-2.06 2.06-.94-2.06-.94L8.5 2.5l-.94 2.06-2.06.94zm10 10l.94 2.06.94-2.06 2.06-.94-2.06-.94-.94-2.06-.94 2.06-2.06.94z\"/><path d=\"M17.41 7.96l-1.37-1.37c-.4-.4-.92-.59-1.43-.59-.52 0-1.04.2-1.43.59L10.3 9.45l-7.72 7.72c-.78.78-.78 2.05 0 2.83L4 21.41c.39.39.9.59 1.41.59.51 0 1.02-.2 1.41-.59l7.78-7.78 2.81-2.81c.8-.78.8-2.07 0-2.86zM5.41 20L4 18.59l7.72-7.72 1.47 1.35L5.41 20z\"/>\n",
              "  </svg>\n",
              "      </button>\n",
              "      \n",
              "  <style>\n",
              "    .colab-df-container {\n",
              "      display:flex;\n",
              "      flex-wrap:wrap;\n",
              "      gap: 12px;\n",
              "    }\n",
              "\n",
              "    .colab-df-convert {\n",
              "      background-color: #E8F0FE;\n",
              "      border: none;\n",
              "      border-radius: 50%;\n",
              "      cursor: pointer;\n",
              "      display: none;\n",
              "      fill: #1967D2;\n",
              "      height: 32px;\n",
              "      padding: 0 0 0 0;\n",
              "      width: 32px;\n",
              "    }\n",
              "\n",
              "    .colab-df-convert:hover {\n",
              "      background-color: #E2EBFA;\n",
              "      box-shadow: 0px 1px 2px rgba(60, 64, 67, 0.3), 0px 1px 3px 1px rgba(60, 64, 67, 0.15);\n",
              "      fill: #174EA6;\n",
              "    }\n",
              "\n",
              "    [theme=dark] .colab-df-convert {\n",
              "      background-color: #3B4455;\n",
              "      fill: #D2E3FC;\n",
              "    }\n",
              "\n",
              "    [theme=dark] .colab-df-convert:hover {\n",
              "      background-color: #434B5C;\n",
              "      box-shadow: 0px 1px 3px 1px rgba(0, 0, 0, 0.15);\n",
              "      filter: drop-shadow(0px 1px 2px rgba(0, 0, 0, 0.3));\n",
              "      fill: #FFFFFF;\n",
              "    }\n",
              "  </style>\n",
              "\n",
              "      <script>\n",
              "        const buttonEl =\n",
              "          document.querySelector('#df-f8c043f0-6b7d-4bc0-8207-600ba7011f43 button.colab-df-convert');\n",
              "        buttonEl.style.display =\n",
              "          google.colab.kernel.accessAllowed ? 'block' : 'none';\n",
              "\n",
              "        async function convertToInteractive(key) {\n",
              "          const element = document.querySelector('#df-f8c043f0-6b7d-4bc0-8207-600ba7011f43');\n",
              "          const dataTable =\n",
              "            await google.colab.kernel.invokeFunction('convertToInteractive',\n",
              "                                                     [key], {});\n",
              "          if (!dataTable) return;\n",
              "\n",
              "          const docLinkHtml = 'Like what you see? Visit the ' +\n",
              "            '<a target=\"_blank\" href=https://colab.research.google.com/notebooks/data_table.ipynb>data table notebook</a>'\n",
              "            + ' to learn more about interactive tables.';\n",
              "          element.innerHTML = '';\n",
              "          dataTable['output_type'] = 'display_data';\n",
              "          await google.colab.output.renderOutput(dataTable, element);\n",
              "          const docLink = document.createElement('div');\n",
              "          docLink.innerHTML = docLinkHtml;\n",
              "          element.appendChild(docLink);\n",
              "        }\n",
              "      </script>\n",
              "    </div>\n",
              "  </div>\n",
              "  "
            ]
          },
          "metadata": {},
          "execution_count": 3
        }
      ]
    },
    {
      "cell_type": "code",
      "source": [
        "y = pd.read_csv('/content/drive/MyDrive/NLP/train_solution.csv')\n",
        "y_train = y['category']\n",
        "y_train = np.array(y_train)\n",
        "y_train"
      ],
      "metadata": {
        "colab": {
          "base_uri": "https://localhost:8080/"
        },
        "id": "JjXFGWWLSDT-",
        "outputId": "4e66838e-8597-4f8e-e8f6-1a6386a7b1d8"
      },
      "execution_count": null,
      "outputs": [
        {
          "output_type": "execute_result",
          "data": {
            "text/plain": [
              "array([1, 0, 1, ..., 2, 0, 0])"
            ]
          },
          "metadata": {},
          "execution_count": 4
        }
      ]
    },
    {
      "cell_type": "code",
      "source": [
        "X['message'] = X['message'].apply(process_text)\n",
        "X['message']"
      ],
      "metadata": {
        "colab": {
          "base_uri": "https://localhost:8080/"
        },
        "id": "K17L-Nm0SaG1",
        "outputId": "c2768bb7-a3ba-41cd-a33c-c6f919792543"
      },
      "execution_count": null,
      "outputs": [
        {
          "output_type": "execute_result",
          "data": {
            "text/plain": [
              "0       [over, 616, million, in, bitcoin, was, electro...\n",
              "1                            [quiz, thursday, or, friday]\n",
              "2       [the, australian, revenue, authority, will, st...\n",
              "3       [let, 's, continue😉, i, present, to, you, my, ...\n",
              "4                    [here, comes, your, future, palette]\n",
              "                              ...                        \n",
              "3839    [on, the, air, the, shooter, 's, kms, and, the...\n",
              "3840                [this, shit, that, 's, off-the-books]\n",
              "3841                  [time, to, go, to, the, sky, tabor]\n",
              "3842                                         [uraaaaaaaa]\n",
              "3843                      [albert, i, only, drink, vodka]\n",
              "Name: message, Length: 3844, dtype: object"
            ]
          },
          "metadata": {},
          "execution_count": 5
        }
      ]
    },
    {
      "cell_type": "markdown",
      "source": [
        "## Сделаем TF-IDF + обучим логрег"
      ],
      "metadata": {
        "id": "KjlMzmBJS6qp"
      }
    },
    {
      "cell_type": "code",
      "source": [
        "vectorizer = TfidfVectorizer()\n",
        "X_train = vectorizer.fit_transform(X['message'].apply(lambda x: \" \".join(x)))"
      ],
      "metadata": {
        "id": "aayTLa50SvB9"
      },
      "execution_count": null,
      "outputs": []
    },
    {
      "cell_type": "code",
      "source": [
        "model = LogisticRegression(max_iter=10000)\n",
        "model.fit(X_train, y_train)"
      ],
      "metadata": {
        "colab": {
          "base_uri": "https://localhost:8080/"
        },
        "id": "-sAlQ4gNUfv9",
        "outputId": "e2ee261a-46e0-4523-c46f-07febca47631"
      },
      "execution_count": null,
      "outputs": [
        {
          "output_type": "execute_result",
          "data": {
            "text/plain": [
              "LogisticRegression(max_iter=10000)"
            ]
          },
          "metadata": {},
          "execution_count": 7
        }
      ]
    },
    {
      "cell_type": "code",
      "source": [
        "X_test = pd.read_csv('/content/drive/MyDrive/NLP/test_data.csv')\n",
        "X_test['message'] = X_test['message'].apply(process_text)\n",
        "X_test['message']"
      ],
      "metadata": {
        "colab": {
          "base_uri": "https://localhost:8080/"
        },
        "id": "HLA9k-M9UiIJ",
        "outputId": "d7bc9b42-3c8f-4054-a5a8-edd9ffdcc47d"
      },
      "execution_count": null,
      "outputs": [
        {
          "output_type": "execute_result",
          "data": {
            "text/plain": [
              "0       [but, a, lot, of, people, have, a, job, fair, ...\n",
              "1       [also, i, got, only, 4, answers, on, the, goog...\n",
              "2               [vladimir, when, will, we, have, seminar]\n",
              "3                               [a, couple, at, 111, too]\n",
              "4             [it, 's, on, anti-buying, and, again, zara]\n",
              "                              ...                        \n",
              "5922    [the, second, thing, write, all, questions, an...\n",
              "5923    [can, grayscale, actually, sell, bitcoin, btc,...\n",
              "5924    [it, 's, not, a, very, operational, dude, putt...\n",
              "5925    [inspired, by, sonia, miro, 's, goddess, and, ...\n",
              "5926        [okay, you, do, n't, have, to, worry, i, did]\n",
              "Name: message, Length: 5927, dtype: object"
            ]
          },
          "metadata": {},
          "execution_count": 8
        }
      ]
    },
    {
      "cell_type": "code",
      "source": [
        "X_test = vectorizer.transform(X_test['message'].apply(lambda x: \" \".join(x)))\n",
        "vectorizer.get_feature_names_out()"
      ],
      "metadata": {
        "colab": {
          "base_uri": "https://localhost:8080/"
        },
        "id": "HiHrthbZUiK_",
        "outputId": "2e62858e-0c74-4820-b70a-e28f790969ed"
      },
      "execution_count": null,
      "outputs": [
        {
          "output_type": "execute_result",
          "data": {
            "text/plain": [
              "array(['00', '000', '00000', ..., 'zuckerberg', 'über', 'überhaupt'],\n",
              "      dtype=object)"
            ]
          },
          "metadata": {},
          "execution_count": 9
        }
      ]
    },
    {
      "cell_type": "code",
      "source": [
        "pred = model.predict(X_test)\n",
        "pred"
      ],
      "metadata": {
        "colab": {
          "base_uri": "https://localhost:8080/"
        },
        "id": "dAyGAFXGU90c",
        "outputId": "a383b293-ae7c-4bd3-9c02-d3c8e80d8c71"
      },
      "execution_count": null,
      "outputs": [
        {
          "output_type": "execute_result",
          "data": {
            "text/plain": [
              "array([0, 0, 0, ..., 0, 2, 0])"
            ]
          },
          "metadata": {},
          "execution_count": 10
        }
      ]
    },
    {
      "cell_type": "code",
      "source": [
        "from collections import Counter\n",
        "\n",
        "Counter(pred)"
      ],
      "metadata": {
        "colab": {
          "base_uri": "https://localhost:8080/"
        },
        "id": "-vGqAFKeVndC",
        "outputId": "bae95c2e-cbb4-4df1-ded0-5bf0c839fabf"
      },
      "execution_count": null,
      "outputs": [
        {
          "output_type": "execute_result",
          "data": {
            "text/plain": [
              "Counter({0: 3725, 2: 1280, 1: 922})"
            ]
          },
          "metadata": {},
          "execution_count": 11
        }
      ]
    },
    {
      "cell_type": "code",
      "source": [
        "ans = pd.DataFrame(columns=['id', 'category'])"
      ],
      "metadata": {
        "id": "1oD3zOXGVpup"
      },
      "execution_count": null,
      "outputs": []
    },
    {
      "cell_type": "code",
      "source": [
        "X =  pd.read_csv('/content/drive/MyDrive/NLP/test_data.csv')\n",
        "ans['id'] = X['id']"
      ],
      "metadata": {
        "id": "flu86gjYWVdo"
      },
      "execution_count": null,
      "outputs": []
    },
    {
      "cell_type": "code",
      "source": [
        "ans['category'] = pred\n",
        "ans"
      ],
      "metadata": {
        "colab": {
          "base_uri": "https://localhost:8080/",
          "height": 424
        },
        "id": "54JhWVokWNBK",
        "outputId": "2ad9710d-6afa-4068-a946-e143daeeb9e3"
      },
      "execution_count": null,
      "outputs": [
        {
          "output_type": "execute_result",
          "data": {
            "text/plain": [
              "           id  category\n",
              "0      275672         0\n",
              "1      275673         0\n",
              "2      275674         0\n",
              "3      275675         0\n",
              "4      275676         0\n",
              "...       ...       ...\n",
              "5922  3143750         0\n",
              "5923  3143751         1\n",
              "5924  3143752         0\n",
              "5925  3143753         2\n",
              "5926  3143754         0\n",
              "\n",
              "[5927 rows x 2 columns]"
            ],
            "text/html": [
              "\n",
              "  <div id=\"df-e7cf61a3-efca-41a2-9890-a09dd4791842\">\n",
              "    <div class=\"colab-df-container\">\n",
              "      <div>\n",
              "<style scoped>\n",
              "    .dataframe tbody tr th:only-of-type {\n",
              "        vertical-align: middle;\n",
              "    }\n",
              "\n",
              "    .dataframe tbody tr th {\n",
              "        vertical-align: top;\n",
              "    }\n",
              "\n",
              "    .dataframe thead th {\n",
              "        text-align: right;\n",
              "    }\n",
              "</style>\n",
              "<table border=\"1\" class=\"dataframe\">\n",
              "  <thead>\n",
              "    <tr style=\"text-align: right;\">\n",
              "      <th></th>\n",
              "      <th>id</th>\n",
              "      <th>category</th>\n",
              "    </tr>\n",
              "  </thead>\n",
              "  <tbody>\n",
              "    <tr>\n",
              "      <th>0</th>\n",
              "      <td>275672</td>\n",
              "      <td>0</td>\n",
              "    </tr>\n",
              "    <tr>\n",
              "      <th>1</th>\n",
              "      <td>275673</td>\n",
              "      <td>0</td>\n",
              "    </tr>\n",
              "    <tr>\n",
              "      <th>2</th>\n",
              "      <td>275674</td>\n",
              "      <td>0</td>\n",
              "    </tr>\n",
              "    <tr>\n",
              "      <th>3</th>\n",
              "      <td>275675</td>\n",
              "      <td>0</td>\n",
              "    </tr>\n",
              "    <tr>\n",
              "      <th>4</th>\n",
              "      <td>275676</td>\n",
              "      <td>0</td>\n",
              "    </tr>\n",
              "    <tr>\n",
              "      <th>...</th>\n",
              "      <td>...</td>\n",
              "      <td>...</td>\n",
              "    </tr>\n",
              "    <tr>\n",
              "      <th>5922</th>\n",
              "      <td>3143750</td>\n",
              "      <td>0</td>\n",
              "    </tr>\n",
              "    <tr>\n",
              "      <th>5923</th>\n",
              "      <td>3143751</td>\n",
              "      <td>1</td>\n",
              "    </tr>\n",
              "    <tr>\n",
              "      <th>5924</th>\n",
              "      <td>3143752</td>\n",
              "      <td>0</td>\n",
              "    </tr>\n",
              "    <tr>\n",
              "      <th>5925</th>\n",
              "      <td>3143753</td>\n",
              "      <td>2</td>\n",
              "    </tr>\n",
              "    <tr>\n",
              "      <th>5926</th>\n",
              "      <td>3143754</td>\n",
              "      <td>0</td>\n",
              "    </tr>\n",
              "  </tbody>\n",
              "</table>\n",
              "<p>5927 rows × 2 columns</p>\n",
              "</div>\n",
              "      <button class=\"colab-df-convert\" onclick=\"convertToInteractive('df-e7cf61a3-efca-41a2-9890-a09dd4791842')\"\n",
              "              title=\"Convert this dataframe to an interactive table.\"\n",
              "              style=\"display:none;\">\n",
              "        \n",
              "  <svg xmlns=\"http://www.w3.org/2000/svg\" height=\"24px\"viewBox=\"0 0 24 24\"\n",
              "       width=\"24px\">\n",
              "    <path d=\"M0 0h24v24H0V0z\" fill=\"none\"/>\n",
              "    <path d=\"M18.56 5.44l.94 2.06.94-2.06 2.06-.94-2.06-.94-.94-2.06-.94 2.06-2.06.94zm-11 1L8.5 8.5l.94-2.06 2.06-.94-2.06-.94L8.5 2.5l-.94 2.06-2.06.94zm10 10l.94 2.06.94-2.06 2.06-.94-2.06-.94-.94-2.06-.94 2.06-2.06.94z\"/><path d=\"M17.41 7.96l-1.37-1.37c-.4-.4-.92-.59-1.43-.59-.52 0-1.04.2-1.43.59L10.3 9.45l-7.72 7.72c-.78.78-.78 2.05 0 2.83L4 21.41c.39.39.9.59 1.41.59.51 0 1.02-.2 1.41-.59l7.78-7.78 2.81-2.81c.8-.78.8-2.07 0-2.86zM5.41 20L4 18.59l7.72-7.72 1.47 1.35L5.41 20z\"/>\n",
              "  </svg>\n",
              "      </button>\n",
              "      \n",
              "  <style>\n",
              "    .colab-df-container {\n",
              "      display:flex;\n",
              "      flex-wrap:wrap;\n",
              "      gap: 12px;\n",
              "    }\n",
              "\n",
              "    .colab-df-convert {\n",
              "      background-color: #E8F0FE;\n",
              "      border: none;\n",
              "      border-radius: 50%;\n",
              "      cursor: pointer;\n",
              "      display: none;\n",
              "      fill: #1967D2;\n",
              "      height: 32px;\n",
              "      padding: 0 0 0 0;\n",
              "      width: 32px;\n",
              "    }\n",
              "\n",
              "    .colab-df-convert:hover {\n",
              "      background-color: #E2EBFA;\n",
              "      box-shadow: 0px 1px 2px rgba(60, 64, 67, 0.3), 0px 1px 3px 1px rgba(60, 64, 67, 0.15);\n",
              "      fill: #174EA6;\n",
              "    }\n",
              "\n",
              "    [theme=dark] .colab-df-convert {\n",
              "      background-color: #3B4455;\n",
              "      fill: #D2E3FC;\n",
              "    }\n",
              "\n",
              "    [theme=dark] .colab-df-convert:hover {\n",
              "      background-color: #434B5C;\n",
              "      box-shadow: 0px 1px 3px 1px rgba(0, 0, 0, 0.15);\n",
              "      filter: drop-shadow(0px 1px 2px rgba(0, 0, 0, 0.3));\n",
              "      fill: #FFFFFF;\n",
              "    }\n",
              "  </style>\n",
              "\n",
              "      <script>\n",
              "        const buttonEl =\n",
              "          document.querySelector('#df-e7cf61a3-efca-41a2-9890-a09dd4791842 button.colab-df-convert');\n",
              "        buttonEl.style.display =\n",
              "          google.colab.kernel.accessAllowed ? 'block' : 'none';\n",
              "\n",
              "        async function convertToInteractive(key) {\n",
              "          const element = document.querySelector('#df-e7cf61a3-efca-41a2-9890-a09dd4791842');\n",
              "          const dataTable =\n",
              "            await google.colab.kernel.invokeFunction('convertToInteractive',\n",
              "                                                     [key], {});\n",
              "          if (!dataTable) return;\n",
              "\n",
              "          const docLinkHtml = 'Like what you see? Visit the ' +\n",
              "            '<a target=\"_blank\" href=https://colab.research.google.com/notebooks/data_table.ipynb>data table notebook</a>'\n",
              "            + ' to learn more about interactive tables.';\n",
              "          element.innerHTML = '';\n",
              "          dataTable['output_type'] = 'display_data';\n",
              "          await google.colab.output.renderOutput(dataTable, element);\n",
              "          const docLink = document.createElement('div');\n",
              "          docLink.innerHTML = docLinkHtml;\n",
              "          element.appendChild(docLink);\n",
              "        }\n",
              "      </script>\n",
              "    </div>\n",
              "  </div>\n",
              "  "
            ]
          },
          "metadata": {},
          "execution_count": 14
        }
      ]
    },
    {
      "cell_type": "code",
      "source": [
        "ans.to_csv('submit.csv', index=False)"
      ],
      "metadata": {
        "id": "w28G3SdMWNDC"
      },
      "execution_count": null,
      "outputs": []
    },
    {
      "cell_type": "markdown",
      "source": [
        "## Теперь попробуем Word2Vec"
      ],
      "metadata": {
        "id": "fwUI8P1SWFDk"
      }
    },
    {
      "cell_type": "code",
      "source": [
        "X_train = pd.read_csv('/content/drive/MyDrive/NLP/train_data.csv')\n",
        "X_train['message'] = X_train['message'].apply(process_text)\n",
        "\n",
        "X_test = pd.read_csv('/content/drive/MyDrive/NLP/test_data.csv')\n",
        "X_test['message'] = X_test['message'].apply(process_text)"
      ],
      "metadata": {
        "id": "u5jj4JIeahVp"
      },
      "execution_count": null,
      "outputs": []
    },
    {
      "cell_type": "code",
      "source": [
        "from gensim.models import Word2Vec\n",
        "\n",
        "embedding = 300\n",
        "\n",
        "words = Word2Vec(sentences=np.concatenate((X_train['message'], X_test['message']), axis=0), size=embedding)"
      ],
      "metadata": {
        "id": "X5_ZJkinWGwM"
      },
      "execution_count": null,
      "outputs": []
    },
    {
      "cell_type": "code",
      "source": [
        "def w2v(txt):\n",
        "    txt = [i for i in txt if i in words.wv]\n",
        "    if len(txt) == 0:\n",
        "        return [0]*embedding\n",
        "    return np.mean(words.wv[txt], axis=0)"
      ],
      "metadata": {
        "id": "3iwsccbDa-g0"
      },
      "execution_count": null,
      "outputs": []
    },
    {
      "cell_type": "code",
      "source": [
        "X_train = X_train['message'].apply(w2v)\n",
        "X_test = X_test['message'].apply(w2v)"
      ],
      "metadata": {
        "id": "_icBkqHkbDC6"
      },
      "execution_count": null,
      "outputs": []
    },
    {
      "cell_type": "code",
      "source": [
        "X_train = pd.DataFrame.from_dict(X_train.to_dict()).T\n",
        "X_test = pd.DataFrame.from_dict(X_test.to_dict()).T"
      ],
      "metadata": {
        "id": "DbuZtyOJdLwp"
      },
      "execution_count": null,
      "outputs": []
    },
    {
      "cell_type": "code",
      "source": [
        "model = LogisticRegression(max_iter=10000)\n",
        "model.fit(X_train, y_train)\n",
        "\n",
        "pred = model.predict(X_test)\n",
        "pred"
      ],
      "metadata": {
        "colab": {
          "base_uri": "https://localhost:8080/"
        },
        "id": "bJyCx48ubZBQ",
        "outputId": "1bdc19f4-c183-4f7d-f330-c46108db2cdd"
      },
      "execution_count": null,
      "outputs": [
        {
          "output_type": "execute_result",
          "data": {
            "text/plain": [
              "array([2, 0, 0, ..., 0, 2, 0])"
            ]
          },
          "metadata": {},
          "execution_count": 21
        }
      ]
    },
    {
      "cell_type": "code",
      "source": [
        "Counter(pred)"
      ],
      "metadata": {
        "colab": {
          "base_uri": "https://localhost:8080/"
        },
        "id": "NZo6baCNbZDJ",
        "outputId": "e19a8eea-28c0-451d-d228-fd3e494b07e4"
      },
      "execution_count": null,
      "outputs": [
        {
          "output_type": "execute_result",
          "data": {
            "text/plain": [
              "Counter({2: 1778, 0: 2851, 1: 1298})"
            ]
          },
          "metadata": {},
          "execution_count": 22
        }
      ]
    },
    {
      "cell_type": "code",
      "source": [
        "ans = pd.DataFrame(columns=['id', 'category'])"
      ],
      "metadata": {
        "id": "zdbBzaArbjeq"
      },
      "execution_count": null,
      "outputs": []
    },
    {
      "cell_type": "code",
      "source": [
        "X =  pd.read_csv('/content/drive/MyDrive/NLP/test_data.csv')\n",
        "ans['id'] = X['id']"
      ],
      "metadata": {
        "id": "ki8CKjIPblxy"
      },
      "execution_count": null,
      "outputs": []
    },
    {
      "cell_type": "code",
      "source": [
        "ans['category'] = pred\n",
        "ans"
      ],
      "metadata": {
        "colab": {
          "base_uri": "https://localhost:8080/",
          "height": 424
        },
        "id": "AwmkxJiUbnwQ",
        "outputId": "57a6e0ea-cff4-44e7-83a6-e44bfd6cf850"
      },
      "execution_count": null,
      "outputs": [
        {
          "output_type": "execute_result",
          "data": {
            "text/plain": [
              "           id  category\n",
              "0      275672         2\n",
              "1      275673         0\n",
              "2      275674         0\n",
              "3      275675         2\n",
              "4      275676         2\n",
              "...       ...       ...\n",
              "5922  3143750         2\n",
              "5923  3143751         1\n",
              "5924  3143752         0\n",
              "5925  3143753         2\n",
              "5926  3143754         0\n",
              "\n",
              "[5927 rows x 2 columns]"
            ],
            "text/html": [
              "\n",
              "  <div id=\"df-2de0b2c8-6117-4765-965d-f3b0a6489c7b\">\n",
              "    <div class=\"colab-df-container\">\n",
              "      <div>\n",
              "<style scoped>\n",
              "    .dataframe tbody tr th:only-of-type {\n",
              "        vertical-align: middle;\n",
              "    }\n",
              "\n",
              "    .dataframe tbody tr th {\n",
              "        vertical-align: top;\n",
              "    }\n",
              "\n",
              "    .dataframe thead th {\n",
              "        text-align: right;\n",
              "    }\n",
              "</style>\n",
              "<table border=\"1\" class=\"dataframe\">\n",
              "  <thead>\n",
              "    <tr style=\"text-align: right;\">\n",
              "      <th></th>\n",
              "      <th>id</th>\n",
              "      <th>category</th>\n",
              "    </tr>\n",
              "  </thead>\n",
              "  <tbody>\n",
              "    <tr>\n",
              "      <th>0</th>\n",
              "      <td>275672</td>\n",
              "      <td>2</td>\n",
              "    </tr>\n",
              "    <tr>\n",
              "      <th>1</th>\n",
              "      <td>275673</td>\n",
              "      <td>0</td>\n",
              "    </tr>\n",
              "    <tr>\n",
              "      <th>2</th>\n",
              "      <td>275674</td>\n",
              "      <td>0</td>\n",
              "    </tr>\n",
              "    <tr>\n",
              "      <th>3</th>\n",
              "      <td>275675</td>\n",
              "      <td>2</td>\n",
              "    </tr>\n",
              "    <tr>\n",
              "      <th>4</th>\n",
              "      <td>275676</td>\n",
              "      <td>2</td>\n",
              "    </tr>\n",
              "    <tr>\n",
              "      <th>...</th>\n",
              "      <td>...</td>\n",
              "      <td>...</td>\n",
              "    </tr>\n",
              "    <tr>\n",
              "      <th>5922</th>\n",
              "      <td>3143750</td>\n",
              "      <td>2</td>\n",
              "    </tr>\n",
              "    <tr>\n",
              "      <th>5923</th>\n",
              "      <td>3143751</td>\n",
              "      <td>1</td>\n",
              "    </tr>\n",
              "    <tr>\n",
              "      <th>5924</th>\n",
              "      <td>3143752</td>\n",
              "      <td>0</td>\n",
              "    </tr>\n",
              "    <tr>\n",
              "      <th>5925</th>\n",
              "      <td>3143753</td>\n",
              "      <td>2</td>\n",
              "    </tr>\n",
              "    <tr>\n",
              "      <th>5926</th>\n",
              "      <td>3143754</td>\n",
              "      <td>0</td>\n",
              "    </tr>\n",
              "  </tbody>\n",
              "</table>\n",
              "<p>5927 rows × 2 columns</p>\n",
              "</div>\n",
              "      <button class=\"colab-df-convert\" onclick=\"convertToInteractive('df-2de0b2c8-6117-4765-965d-f3b0a6489c7b')\"\n",
              "              title=\"Convert this dataframe to an interactive table.\"\n",
              "              style=\"display:none;\">\n",
              "        \n",
              "  <svg xmlns=\"http://www.w3.org/2000/svg\" height=\"24px\"viewBox=\"0 0 24 24\"\n",
              "       width=\"24px\">\n",
              "    <path d=\"M0 0h24v24H0V0z\" fill=\"none\"/>\n",
              "    <path d=\"M18.56 5.44l.94 2.06.94-2.06 2.06-.94-2.06-.94-.94-2.06-.94 2.06-2.06.94zm-11 1L8.5 8.5l.94-2.06 2.06-.94-2.06-.94L8.5 2.5l-.94 2.06-2.06.94zm10 10l.94 2.06.94-2.06 2.06-.94-2.06-.94-.94-2.06-.94 2.06-2.06.94z\"/><path d=\"M17.41 7.96l-1.37-1.37c-.4-.4-.92-.59-1.43-.59-.52 0-1.04.2-1.43.59L10.3 9.45l-7.72 7.72c-.78.78-.78 2.05 0 2.83L4 21.41c.39.39.9.59 1.41.59.51 0 1.02-.2 1.41-.59l7.78-7.78 2.81-2.81c.8-.78.8-2.07 0-2.86zM5.41 20L4 18.59l7.72-7.72 1.47 1.35L5.41 20z\"/>\n",
              "  </svg>\n",
              "      </button>\n",
              "      \n",
              "  <style>\n",
              "    .colab-df-container {\n",
              "      display:flex;\n",
              "      flex-wrap:wrap;\n",
              "      gap: 12px;\n",
              "    }\n",
              "\n",
              "    .colab-df-convert {\n",
              "      background-color: #E8F0FE;\n",
              "      border: none;\n",
              "      border-radius: 50%;\n",
              "      cursor: pointer;\n",
              "      display: none;\n",
              "      fill: #1967D2;\n",
              "      height: 32px;\n",
              "      padding: 0 0 0 0;\n",
              "      width: 32px;\n",
              "    }\n",
              "\n",
              "    .colab-df-convert:hover {\n",
              "      background-color: #E2EBFA;\n",
              "      box-shadow: 0px 1px 2px rgba(60, 64, 67, 0.3), 0px 1px 3px 1px rgba(60, 64, 67, 0.15);\n",
              "      fill: #174EA6;\n",
              "    }\n",
              "\n",
              "    [theme=dark] .colab-df-convert {\n",
              "      background-color: #3B4455;\n",
              "      fill: #D2E3FC;\n",
              "    }\n",
              "\n",
              "    [theme=dark] .colab-df-convert:hover {\n",
              "      background-color: #434B5C;\n",
              "      box-shadow: 0px 1px 3px 1px rgba(0, 0, 0, 0.15);\n",
              "      filter: drop-shadow(0px 1px 2px rgba(0, 0, 0, 0.3));\n",
              "      fill: #FFFFFF;\n",
              "    }\n",
              "  </style>\n",
              "\n",
              "      <script>\n",
              "        const buttonEl =\n",
              "          document.querySelector('#df-2de0b2c8-6117-4765-965d-f3b0a6489c7b button.colab-df-convert');\n",
              "        buttonEl.style.display =\n",
              "          google.colab.kernel.accessAllowed ? 'block' : 'none';\n",
              "\n",
              "        async function convertToInteractive(key) {\n",
              "          const element = document.querySelector('#df-2de0b2c8-6117-4765-965d-f3b0a6489c7b');\n",
              "          const dataTable =\n",
              "            await google.colab.kernel.invokeFunction('convertToInteractive',\n",
              "                                                     [key], {});\n",
              "          if (!dataTable) return;\n",
              "\n",
              "          const docLinkHtml = 'Like what you see? Visit the ' +\n",
              "            '<a target=\"_blank\" href=https://colab.research.google.com/notebooks/data_table.ipynb>data table notebook</a>'\n",
              "            + ' to learn more about interactive tables.';\n",
              "          element.innerHTML = '';\n",
              "          dataTable['output_type'] = 'display_data';\n",
              "          await google.colab.output.renderOutput(dataTable, element);\n",
              "          const docLink = document.createElement('div');\n",
              "          docLink.innerHTML = docLinkHtml;\n",
              "          element.appendChild(docLink);\n",
              "        }\n",
              "      </script>\n",
              "    </div>\n",
              "  </div>\n",
              "  "
            ]
          },
          "metadata": {},
          "execution_count": 25
        }
      ]
    },
    {
      "cell_type": "code",
      "source": [
        "ans.to_csv('submit2.csv', index=False)"
      ],
      "metadata": {
        "id": "DbbVaiHwbpW-"
      },
      "execution_count": null,
      "outputs": []
    },
    {
      "cell_type": "markdown",
      "source": [
        "# Задание 2"
      ],
      "metadata": {
        "id": "Rio0aGiBxWUd"
      }
    },
    {
      "cell_type": "code",
      "source": [
        "phrase = pd.Series(['my', 'future'])\n",
        "sim = words.wv.most_similar(phrase, topn=1)\n",
        "sim"
      ],
      "metadata": {
        "colab": {
          "base_uri": "https://localhost:8080/"
        },
        "id": "wR0ZGS6Ww8Bp",
        "outputId": "908175d4-f2c0-4ba3-c5c6-eb72e72575ec"
      },
      "execution_count": null,
      "outputs": [
        {
          "output_type": "execute_result",
          "data": {
            "text/plain": [
              "[('trash', 0.957145631313324)]"
            ]
          },
          "metadata": {},
          "execution_count": 30
        }
      ]
    },
    {
      "cell_type": "code",
      "source": [
        "w2v('My future')"
      ],
      "metadata": {
        "colab": {
          "base_uri": "https://localhost:8080/"
        },
        "id": "N4V1iVi3pCOM",
        "outputId": "39d747a6-5d3e-4ea9-feb5-7829bcff6f17"
      },
      "execution_count": null,
      "outputs": [
        {
          "output_type": "execute_result",
          "data": {
            "text/plain": [
              "array([ 4.93754540e-03, -2.00273208e-02, -7.51304731e-04, -9.58636254e-02,\n",
              "       -1.49277285e-01,  9.59441066e-03, -2.18918617e-03,  6.32570162e-02,\n",
              "        7.46581703e-02,  2.17495915e-02,  3.41256969e-02,  3.50900851e-02,\n",
              "       -2.75410824e-02, -4.89791892e-02, -2.89546121e-02, -3.81655917e-02,\n",
              "       -1.64083932e-02, -4.24307548e-02, -9.11775753e-02,  2.36013699e-02,\n",
              "        3.06598861e-02,  1.15309209e-02,  5.16322218e-02,  1.67705212e-02,\n",
              "        5.87272421e-02, -3.23107652e-02,  5.45779383e-03,  4.57057692e-02,\n",
              "        5.36367074e-02, -3.79753970e-02, -1.05741903e-01,  3.55090089e-02,\n",
              "        2.93273367e-02,  1.24706179e-02, -1.02538325e-01, -7.51297921e-02,\n",
              "       -7.31137246e-02,  3.03285476e-02, -6.41598925e-02,  2.28434708e-02,\n",
              "       -7.41198808e-02,  1.23998001e-02, -1.38881877e-02,  1.35325026e-02,\n",
              "        7.09258541e-02, -5.58943413e-02, -3.24541405e-02,  6.17474653e-02,\n",
              "        3.76192592e-02, -9.08281375e-03,  3.28550935e-02, -2.32191626e-02,\n",
              "       -2.08361410e-02,  3.18854339e-02, -7.74513558e-02,  3.37100588e-02,\n",
              "       -4.83970232e-02, -5.18451370e-02,  4.94258702e-02, -5.58920242e-02,\n",
              "        3.71724628e-02, -6.51807338e-02, -2.37169210e-02, -2.75057312e-02,\n",
              "        2.27291621e-02, -3.17231789e-02, -1.69237591e-02,  3.16278674e-02,\n",
              "       -4.05184329e-02,  9.24219638e-02,  3.35098617e-02,  5.23542129e-02,\n",
              "        2.56536598e-03, -9.29765217e-03, -2.30114218e-02,  8.01483318e-02,\n",
              "        3.62258079e-03,  4.03928123e-02, -7.60821179e-02,  7.77875781e-02,\n",
              "        1.05243148e-02,  6.72595529e-03, -6.73511950e-03, -2.56618839e-02,\n",
              "        4.08176519e-02, -5.14485361e-03,  1.80889610e-02,  5.15896864e-02,\n",
              "       -8.94763321e-02,  1.86616299e-03,  5.39548472e-02, -6.80600256e-02,\n",
              "        1.01749480e-01,  7.31687099e-02, -4.45920639e-02,  1.41477725e-02,\n",
              "       -1.96420141e-02, -2.87798066e-02,  7.99434707e-02,  6.62311868e-05,\n",
              "        8.74297693e-04, -3.99387889e-02, -6.89823106e-02, -8.58798623e-03,\n",
              "       -3.17730941e-02, -7.30351871e-03, -2.88875401e-02,  1.19904093e-01,\n",
              "        9.00039524e-02,  5.46689555e-02,  1.77963544e-02,  4.00786400e-02,\n",
              "       -5.76804541e-02, -6.15582056e-02, -1.99499261e-02, -1.18025482e-01,\n",
              "       -6.25039637e-02, -1.02317054e-02, -1.01216715e-02,  6.01328257e-03,\n",
              "       -1.24563642e-01,  2.96276226e-03,  3.15741971e-02, -9.39203333e-03,\n",
              "        9.28369537e-02, -4.58940305e-02,  3.30349207e-02, -3.04958057e-02,\n",
              "       -3.18415985e-02, -5.22223450e-02, -2.04252582e-02, -8.80544186e-02,\n",
              "       -4.83878069e-02,  3.61934188e-03, -1.76333506e-02,  5.40138073e-02,\n",
              "        2.50644665e-02, -2.70084776e-02,  8.79772659e-03, -4.47629131e-02,\n",
              "       -1.05652036e-02, -4.83729318e-03,  8.32418352e-03, -3.31581570e-02,\n",
              "       -5.00529520e-02,  2.90123057e-02,  3.42520699e-03, -5.00927232e-02,\n",
              "        1.47681041e-02, -3.70527208e-02, -4.07726504e-02, -1.23422906e-01,\n",
              "        2.03557126e-02,  7.80315995e-02,  9.17177051e-02, -5.06885946e-02,\n",
              "        1.14745349e-02,  1.77426636e-02,  8.37445930e-02,  1.51869124e-02,\n",
              "        7.65594840e-02,  4.32896353e-02,  4.67341170e-02, -1.42519278e-02,\n",
              "       -2.40630824e-02, -8.97589780e-04, -1.57830641e-02, -1.74321774e-02,\n",
              "        3.49439867e-02, -2.08975209e-04,  2.21161433e-02,  4.06828634e-02,\n",
              "        5.88973165e-02,  1.59102231e-02,  5.20791672e-02, -1.25319446e-02,\n",
              "        3.89969908e-02, -2.57913060e-02,  9.97868255e-02, -4.26608995e-02,\n",
              "        7.81571791e-02,  9.50158238e-02, -6.22040704e-02,  2.29323246e-02,\n",
              "        2.17862725e-02,  2.10259277e-02, -2.61939745e-02,  2.62311008e-02,\n",
              "       -6.94882199e-02, -5.75042749e-03,  1.24087697e-02, -1.41190393e-02,\n",
              "       -1.60244498e-02,  2.47258991e-02, -1.11486483e-02, -3.91870067e-02,\n",
              "        6.71909451e-02, -3.67943570e-02, -1.04329390e-02,  1.87908653e-02,\n",
              "        2.99275052e-02, -2.60503981e-02, -5.14624454e-02, -6.84672175e-03,\n",
              "        2.74287129e-04,  1.75187103e-02, -2.47724261e-02,  4.85028438e-02,\n",
              "        4.23397720e-02, -9.53402370e-02, -9.03271511e-02,  3.45009342e-02,\n",
              "       -9.54946056e-02,  3.42437886e-02,  6.91571087e-02, -1.06652379e-01,\n",
              "        1.54002625e-02, -8.13836008e-02,  1.06975054e-02,  1.23153748e-02,\n",
              "        3.44361700e-02, -7.40751177e-02, -4.02051676e-03,  1.48197189e-02,\n",
              "        5.57568446e-02, -5.09417709e-03,  5.57119437e-02,  9.01146680e-02,\n",
              "        5.99688403e-02, -2.17266958e-02,  1.19092010e-01, -1.16359061e-02,\n",
              "        1.19689345e-01,  2.96776090e-02, -6.26747822e-03, -7.38059953e-02,\n",
              "       -1.92569848e-02, -2.20585465e-02, -1.00202365e-02, -1.88640971e-02,\n",
              "       -3.41423564e-02,  2.16504876e-02,  8.59328061e-02, -3.22042629e-02,\n",
              "       -4.41614054e-02, -3.22010741e-02, -2.50688363e-02, -1.20339595e-01,\n",
              "        5.39390519e-02, -4.63074632e-02,  7.26696774e-02,  9.76930484e-02,\n",
              "        8.89341086e-02,  9.74142700e-02,  3.37777920e-02,  1.19905457e-01,\n",
              "        8.69992301e-02, -7.78954625e-02, -2.09412491e-03, -6.30749390e-02,\n",
              "       -2.85085626e-02, -4.83562797e-03,  2.91963797e-02, -4.59772833e-02,\n",
              "        6.38785120e-03,  1.99437328e-02, -2.33924426e-02,  3.84774469e-02,\n",
              "        3.58063728e-03, -8.86933692e-03,  1.81743354e-01,  1.62079960e-01,\n",
              "       -3.03909816e-02,  4.83410582e-02,  1.28807416e-02,  2.95086559e-02,\n",
              "        8.85042921e-02, -8.80870968e-02,  2.82622706e-02,  9.60625038e-02,\n",
              "       -3.55750956e-02, -9.10572037e-02,  4.24987338e-02,  3.19861583e-02,\n",
              "       -2.00673342e-02,  2.92297490e-02, -4.66380343e-02, -5.23352362e-02,\n",
              "       -1.37043539e-02,  4.04567793e-02,  2.84759682e-02, -9.76957604e-02,\n",
              "        2.27215532e-02,  1.85757987e-02,  4.79320362e-02,  1.33687750e-01,\n",
              "       -2.93474202e-03,  5.12575591e-03,  2.39077602e-02, -1.07987538e-01],\n",
              "      dtype=float32)"
            ]
          },
          "metadata": {},
          "execution_count": 31
        }
      ]
    },
    {
      "cell_type": "code",
      "source": [],
      "metadata": {
        "id": "hKAgzLWdpoGD"
      },
      "execution_count": null,
      "outputs": []
    }
  ]
}